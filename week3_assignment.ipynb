{
 "cells": [
  {
   "cell_type": "code",
   "execution_count": 12,
   "id": "911e43c3-44a6-4287-8a91-84b20d554b6d",
   "metadata": {},
   "outputs": [
    {
     "data": {
      "text/plain": [
       "[1, 3, 5, 7, 9, 11, 13, 15, 17, 19, 21, 23, 25]"
      ]
     },
     "execution_count": 12,
     "metadata": {},
     "output_type": "execute_result"
    }
   ],
   "source": [
    "#Question 1\n",
    "#\"def\" keyword is used to create a function in py.\n",
    "def odd_numbers():\n",
    "    list_of_odd_numbers = []\n",
    "    for i in range(1, 26):\n",
    "        if i % 2 != 0:\n",
    "            list_of_odd_numbers.append(i)\n",
    "    return list_of_odd_numbers\n",
    "\n",
    "odd_numbers()        "
   ]
  },
  {
   "cell_type": "code",
   "execution_count": 15,
   "id": "5241473f-fb7c-4ef4-acf7-97cf71fc3582",
   "metadata": {},
   "outputs": [
    {
     "name": "stdout",
     "output_type": "stream",
     "text": [
      "1\n",
      "2\n",
      "3\n",
      "naman\n",
      "yagnik\n",
      "sanjay\n"
     ]
    }
   ],
   "source": [
    "#Question 2\n",
    "#*args keyword used to pass a variable number of non-keyword arguments to a function\n",
    "#example :\n",
    "def arguement(*args):\n",
    "    for i in args:\n",
    "        print(i)\n",
    "\n",
    "arguement(1, 2, 3)\n",
    "arguement('naman', 'yagnik', 'sanjay')\n"
   ]
  },
  {
   "cell_type": "code",
   "execution_count": 20,
   "id": "b6f223da-5eba-4574-914c-09188a6c2330",
   "metadata": {},
   "outputs": [
    {
     "name": "stdout",
     "output_type": "stream",
     "text": [
      "name: Yagnik\n",
      "age: 19\n",
      "city: Vadodara\n",
      "country: India\n"
     ]
    }
   ],
   "source": [
    "#**kwargs keyword used to pass a variable number of keyword arguments to a function\n",
    "def print_kwargs(**kwargs):\n",
    "    for key, value in kwargs.items():\n",
    "        print(f\"{key}: {value}\")\n",
    "        \n",
    "print_kwargs(name='Yagnik', age=19)\n",
    "print_kwargs(city='Vadodara', country='India')\n"
   ]
  },
  {
   "cell_type": "code",
   "execution_count": 19,
   "id": "1db1629c-9a95-4700-b4f3-00534231f1e0",
   "metadata": {},
   "outputs": [
    {
     "name": "stdout",
     "output_type": "stream",
     "text": [
      "2\n",
      "4\n",
      "6\n",
      "8\n",
      "10\n"
     ]
    }
   ],
   "source": [
    "#Question 3\n",
    "#iterator is an object that allows traversal or looping through a collection of elements. \n",
    "\n",
    "my_list = [2, 4, 6, 8, 10, 12, 14, 16, 18, 20]\n",
    "\n",
    "my_iterator = iter(my_list)\n",
    "\n",
    "for _ in range(5):\n",
    "    element = next(my_iterator)\n",
    "    print(element)\n"
   ]
  },
  {
   "cell_type": "code",
   "execution_count": 22,
   "id": "f20f02b9-a972-4701-a0c1-d19d291bd988",
   "metadata": {},
   "outputs": [
    {
     "name": "stdout",
     "output_type": "stream",
     "text": [
      "1\n",
      "3\n",
      "5\n",
      "7\n",
      "9\n"
     ]
    }
   ],
   "source": [
    "#Question 4\n",
    "#generator function is a special type of function that generates a sequence of values using the yield keyword.\n",
    "#yield keyword is used in a generator function to yield a value from the function and temporarily suspend its execution.\n",
    "#For instance\n",
    "def odd_numbers(n):\n",
    "    for i in range(n):\n",
    "        if i % 2 != 0:\n",
    "            yield i\n",
    "            \n",
    "generator = odd_numbers(10)\n",
    "\n",
    "for _ in range(5):\n",
    "    print(next(generator))\n"
   ]
  },
  {
   "cell_type": "code",
   "execution_count": 24,
   "id": "2d84ff11-2d1f-4582-8efd-5f5dbf4f8a35",
   "metadata": {},
   "outputs": [
    {
     "name": "stdout",
     "output_type": "stream",
     "text": [
      "2\n",
      "3\n",
      "5\n",
      "7\n",
      "11\n",
      "13\n",
      "17\n",
      "19\n",
      "23\n",
      "29\n",
      "31\n",
      "37\n",
      "41\n",
      "43\n",
      "47\n",
      "53\n",
      "59\n",
      "61\n",
      "67\n",
      "71\n"
     ]
    }
   ],
   "source": [
    "#Question 5\n",
    "def primes():\n",
    "    for num in range(1, 1000):\n",
    "        if is_prime(num):\n",
    "            yield num\n",
    "\n",
    "def is_prime(num):\n",
    "    if num < 2:\n",
    "        return False\n",
    "    for i in range(2, int(num ** 0.5) + 1):\n",
    "        if num % i == 0:\n",
    "            return False\n",
    "    return True\n",
    "\n",
    "prime_num = primes()\n",
    "\n",
    "for _ in range(20):\n",
    "    print(next(prime_num))\n"
   ]
  },
  {
   "cell_type": "code",
   "execution_count": 26,
   "id": "aedd5b7d-eb87-4f24-8e9d-10aec3cff6bc",
   "metadata": {},
   "outputs": [
    {
     "name": "stdout",
     "output_type": "stream",
     "text": [
      "0\n",
      "1\n",
      "1\n",
      "2\n",
      "3\n",
      "5\n",
      "8\n",
      "13\n",
      "21\n",
      "34\n"
     ]
    }
   ],
   "source": [
    "#Question 6\n",
    "def fibonacci_numbers(n):\n",
    "    fibonacci = []\n",
    "    a, b = 0, 1\n",
    "    count = 0\n",
    "    while count < n:\n",
    "        fibonacci.append(a)\n",
    "        a, b = b, a + b\n",
    "        count += 1\n",
    "    return fibonacci\n",
    "\n",
    "fibonacci_numbers = fibonacci_numbers(10)\n",
    "\n",
    "for number in fibonacci_numbers:\n",
    "    print(number)\n"
   ]
  },
  {
   "cell_type": "code",
   "execution_count": 1,
   "id": "28a7f13b-fd0f-4276-bb15-747f2fd94d7e",
   "metadata": {},
   "outputs": [],
   "source": [
    "#Question 7\n",
    "\n",
    "name = 'pwskills'\n",
    "list = []\n",
    "for i in name:\n",
    "    if i in 'pwskills':\n",
    "        list.append(i)\n",
    "    "
   ]
  },
  {
   "cell_type": "code",
   "execution_count": 2,
   "id": "379f8c9c-aab8-4cfb-bc47-5954fe91b166",
   "metadata": {},
   "outputs": [
    {
     "data": {
      "text/plain": [
       "['p', 'w', 's', 'k', 'i', 'l', 'l', 's']"
      ]
     },
     "execution_count": 2,
     "metadata": {},
     "output_type": "execute_result"
    }
   ],
   "source": [
    "list"
   ]
  },
  {
   "cell_type": "code",
   "execution_count": 3,
   "id": "541755dc-6b11-49f0-a7b5-70eba1a903fd",
   "metadata": {},
   "outputs": [
    {
     "name": "stdin",
     "output_type": "stream",
     "text": [
      "Enter a number:  12321\n"
     ]
    },
    {
     "name": "stdout",
     "output_type": "stream",
     "text": [
      "12321 is a palindrome.\n"
     ]
    }
   ],
   "source": [
    "#Question 8\n",
    "def is_palindrome(number):\n",
    "   \n",
    "    number_str = str(number)\n",
    "    \n",
    "    left = 0\n",
    "    right = len(number_str) - 1\n",
    "    \n",
    "    while left < right:\n",
    "        if number_str[left] != number_str[right]:\n",
    "            return False\n",
    "        left += 1\n",
    "        right -= 1\n",
    "    \n",
    "    return True\n",
    "\n",
    "num = int(input(\"Enter a number: \"))\n",
    "if is_palindrome(num):\n",
    "    print(num, \"is a palindrome.\")\n",
    "else:\n",
    "    print(num, \"is not a palindrome.\")\n"
   ]
  },
  {
   "cell_type": "code",
   "execution_count": 4,
   "id": "f5852320-c6be-4d9a-8cab-0940b147cea6",
   "metadata": {},
   "outputs": [
    {
     "name": "stdout",
     "output_type": "stream",
     "text": [
      "[1, 3, 5, 7, 9, 11, 13, 15, 17, 19, 21, 23, 25, 27, 29, 31, 33, 35, 37, 39, 41, 43, 45, 47, 49, 51, 53, 55, 57, 59, 61, 63, 65, 67, 69, 71, 73, 75, 77, 79, 81, 83, 85, 87, 89, 91, 93, 95, 97, 99]\n"
     ]
    }
   ],
   "source": [
    "#Question 9\n",
    "numbers = []\n",
    "for num in range(1, 101):\n",
    "    numbers.append(num)\n",
    "\n",
    "odd_numbers = []\n",
    "for num in numbers:\n",
    "    if num % 2 != 0:\n",
    "        odd_numbers.append(num)\n",
    "\n",
    "print(odd_numbers)\n"
   ]
  },
  {
   "cell_type": "code",
   "execution_count": null,
   "id": "3a601577-6059-4cf8-b35a-11155be739fb",
   "metadata": {},
   "outputs": [],
   "source": []
  }
 ],
 "metadata": {
  "kernelspec": {
   "display_name": "Python 3 (ipykernel)",
   "language": "python",
   "name": "python3"
  },
  "language_info": {
   "codemirror_mode": {
    "name": "ipython",
    "version": 3
   },
   "file_extension": ".py",
   "mimetype": "text/x-python",
   "name": "python",
   "nbconvert_exporter": "python",
   "pygments_lexer": "ipython3",
   "version": "3.10.8"
  }
 },
 "nbformat": 4,
 "nbformat_minor": 5
}
